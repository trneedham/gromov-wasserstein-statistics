{
 "cells": [
  {
   "cell_type": "code",
   "execution_count": 1,
   "metadata": {},
   "outputs": [],
   "source": [
    "# Import packages\n",
    "import scipy as sp\n",
    "import numpy as np\n",
    "import matplotlib.pylab as plt\n",
    "from mpl_toolkits.mplot3d import Axes3D\n",
    "import ot\n",
    "import time\n",
    "from ot.bregman import sinkhorn\n",
    "from ot.utils import dist\n",
    "from ot.optim import cg\n",
    "import gromovWassersteinAveraging as gwa\n",
    "\n",
    "import os \n",
    "from os.path import dirname, join as pjoin\n",
    "import scipy.io as sio"
   ]
  },
  {
   "cell_type": "markdown",
   "metadata": {},
   "source": [
    "# Importing the Shape Data"
   ]
  },
  {
   "cell_type": "code",
   "execution_count": 2,
   "metadata": {},
   "outputs": [
    {
     "data": {
      "text/plain": [
       "(2, 100, 1300)"
      ]
     },
     "execution_count": 2,
     "metadata": {},
     "output_type": "execute_result"
    }
   ],
   "source": [
    "data_dir = os.getcwd() # Get the current working directory name.\n",
    "mat_fname = pjoin(data_dir, 'planarShapes.mat') \n",
    "# Add the file name to the current working directory.\n",
    "\n",
    "mat_contents = sio.loadmat(mat_fname) # Read the file\n",
    "\n",
    "planarShapes = mat_contents['planarShapes']\n",
    "planarShapes.shape"
   ]
  },
  {
   "cell_type": "markdown",
   "metadata": {},
   "source": [
    "# Classification\n",
    "\n",
    "Let's try some simple classification task. We will classify shapes by class using the Riemannian algorithm. This is an easy classification task if we are given the 'labeled' points -- i.e. points in the matrix are given in order along the curves. To make things more interesting, I'll permute the order of the points in each curve."
   ]
  },
  {
   "cell_type": "markdown",
   "metadata": {},
   "source": [
    "We first import a few classes of shapes (we will want to increase the number for a real experiment)."
   ]
  },
  {
   "cell_type": "code",
   "execution_count": 3,
   "metadata": {},
   "outputs": [
    {
     "name": "stdout",
     "output_type": "stream",
     "text": [
      "num_classes =  20\n",
      "num_shapes =  400\n"
     ]
    }
   ],
   "source": [
    "indices = [0,20,40,60,80,100,120,140,160,180,200,220,240,260,280,300,320,340,360,380]\n",
    "\n",
    "num_classes = len(indices)\n",
    "\n",
    "num_shapes = 20*num_classes\n",
    "\n",
    "labels = []\n",
    "\n",
    "for j in range(num_classes):\n",
    "    labels = labels + 20*[j]\n",
    "\n",
    "shapes = planarShapes[:,:,indices[0]:indices[0]+20]\n",
    "\n",
    "for j in range(1,len(indices)):\n",
    "    shapes = np.concatenate((shapes,planarShapes[:,:,indices[j]:indices[j]+20]),axis=2)\n",
    "    \n",
    "print('num_classes = ',num_classes)\n",
    "print('num_shapes = ', num_shapes)"
   ]
  },
  {
   "cell_type": "code",
   "execution_count": 4,
   "metadata": {},
   "outputs": [
    {
     "data": {
      "image/png": "[encoded data removed]",
      "text/plain": [
       "<Figure size 1800x360 with 5 Axes>"
      ]
     },
     "metadata": {
      "needs_background": "light"
     },
     "output_type": "display_data"
    }
   ],
   "source": [
    "fig = plt.figure(figsize = (25,5))\n",
    "\n",
    "for j in range(5):\n",
    "    fig.add_subplot(1,5,j+1)\n",
    "    plt.plot(shapes[0, :,50*j], shapes[1, :,50*j], 'ob');\n",
    "    plt.axis('equal');\n",
    "    plt.axis('off')"
   ]
  },
  {
   "cell_type": "markdown",
   "metadata": {},
   "source": [
    "Convert the shapes to cost matrices. We include a permutation step to mix up the points along the curve."
   ]
  },
  {
   "cell_type": "code",
   "execution_count": 5,
   "metadata": {},
   "outputs": [],
   "source": [
    "CList = []\n",
    "pList = []\n",
    "p = ot.unif(100)\n",
    "\n",
    "for j in range(num_shapes):\n",
    "    shape = shapes[:,:,j]\n",
    "    C = sp.spatial.distance.cdist(np.transpose(shape), np.transpose(shape))\n",
    "    perm = np.random.permutation(np.eye(100))\n",
    "    C = np.matmul(np.matmul(perm,C),perm.T)\n",
    "    CList.append(C)\n",
    "    pList.append(p)"
   ]
  },
  {
   "cell_type": "markdown",
   "metadata": {},
   "source": [
    "## Preparing the Training Data\n",
    "\n",
    "There are a few preliminary steps to prepare the training data for the Riemannian algorithms."
   ]
  },
  {
   "cell_type": "markdown",
   "metadata": {},
   "source": [
    "### Train/Test Split\n",
    "\n",
    "We split the cost matrices into a training set and a testing set."
   ]
  },
  {
   "cell_type": "markdown",
   "metadata": {},
   "source": [
    "Import some machine learning functions."
   ]
  },
  {
   "cell_type": "code",
   "execution_count": 6,
   "metadata": {},
   "outputs": [],
   "source": [
    "from sklearn.model_selection import train_test_split\n",
    "from sklearn.svm import SVC"
   ]
  },
  {
   "cell_type": "markdown",
   "metadata": {},
   "source": [
    "Reshape `CList` into a big matrix."
   ]
  },
  {
   "cell_type": "code",
   "execution_count": 7,
   "metadata": {},
   "outputs": [],
   "source": [
    "CListMatrix = np.zeros([num_shapes,100*100])\n",
    "\n",
    "for j in range(num_shapes):\n",
    "    C = CList[j].reshape(1,100*100)\n",
    "    CListMatrix[j,:] = C"
   ]
  },
  {
   "cell_type": "markdown",
   "metadata": {},
   "source": [
    "Split the feature vectors and labels into training and testing sets."
   ]
  },
  {
   "cell_type": "code",
   "execution_count": 8,
   "metadata": {},
   "outputs": [],
   "source": [
    "X = CListMatrix\n",
    "y = labels"
   ]
  },
  {
   "cell_type": "code",
   "execution_count": 20,
   "metadata": {},
   "outputs": [],
   "source": [
    "X_train, X_test, y_train, y_test = train_test_split(X, y, random_state=1)"
   ]
  },
  {
   "cell_type": "code",
   "execution_count": 21,
   "metadata": {},
   "outputs": [
    {
     "name": "stdout",
     "output_type": "stream",
     "text": [
      "300 100\n"
     ]
    }
   ],
   "source": [
    "train_size = X_train.shape[0]\n",
    "test_size = X_test.shape[0]\n",
    "\n",
    "print(train_size,test_size)"
   ]
  },
  {
   "cell_type": "markdown",
   "metadata": {},
   "source": [
    "Now we reshape the training and testing vectors into lists of cost matrices once again."
   ]
  },
  {
   "cell_type": "code",
   "execution_count": 22,
   "metadata": {},
   "outputs": [],
   "source": [
    "CList_train = [X_train[j,:].reshape(100,100) for j in range(train_size)]\n",
    "CList_test = [X_test[j,:].reshape(100,100) for j in range(test_size)]"
   ]
  },
  {
   "cell_type": "markdown",
   "metadata": {},
   "source": [
    "### Compute the Average\n",
    "\n",
    "To train any classifier in the Riemannian setting, we first find the average cost matrix from the testing set."
   ]
  },
  {
   "cell_type": "code",
   "execution_count": 23,
   "metadata": {},
   "outputs": [
    {
     "name": "stdout",
     "output_type": "stream",
     "text": [
      "Iter Frechet_Loss\n",
      "0 49847302.89841316\n",
      "current size  (100, 100)\n",
      "1 19090568.235538132  full steps\n",
      "current size  (100, 100)\n",
      "2 17506092.50642438  full steps\n",
      "current size  (100, 100)\n",
      "3 17317609.272966314  full steps\n",
      "current size  (100, 100)\n",
      "4 17235061.913078688  full steps\n",
      "current size  (100, 100)\n",
      "5 17173868.357179705  full steps\n",
      "current size  (100, 100)\n",
      "6 17285907.600324027  full steps\n",
      "current size  (100, 100)\n",
      "7 17441520.49477264  full steps\n",
      "current size  (100, 100)\n",
      "8 17088374.112948988  full steps\n",
      "current size  (100, 100)\n",
      "9 17045190.883062575  full steps\n",
      "current size  (100, 100)\n",
      "10 17088177.06417659  full steps\n",
      "current size  (100, 100)\n",
      "11 17050218.043147866  full steps\n",
      "current size  (100, 100)\n",
      "12 17013867.892193682  full steps\n",
      "current size  (100, 100)\n",
      "13 17010348.579679623  full steps\n",
      "current size  (100, 100)\n",
      "14 16982835.599861294  full steps\n",
      "current size  (100, 100)\n",
      "15 16977669.94909279  full steps\n",
      "current size  (100, 100)\n",
      "16 16916353.13302417  full steps\n",
      "current size  (100, 100)\n",
      "17 17029892.391433608  full steps\n",
      "current size  (100, 100)\n",
      "18 17023337.28949217  full steps\n",
      "current size  (100, 100)\n",
      "19 17010284.97877712  full steps\n",
      "current size  (100, 100)\n",
      "20 16878338.072838064  full steps\n",
      "setting seed at  20\n",
      "seed loss is 16878338.072838064\n",
      "21 16878289.523545694 step scale 0.0013390098349953345\n",
      "22 16878241.435906645 step scale 0.0013288230816371593\n",
      "23 16878193.570450883 step scale 0.0013187358719820065\n",
      "24 16878146.422814313 step scale 0.001307678721392773\n",
      "25 16861538.690353476 step scale 0.086501099834956\n",
      "26 16861465.76242581 step scale 0.0015519140599568391\n",
      "27 16861414.362892266 step scale 0.0011193917389730444\n",
      "28 16860016.77551321 step scale 0.001112074323330209\n",
      "29 16859922.347886086 step scale 0.001911997248412983\n",
      "30 16859711.50666549 step scale 0.0018920239964229878\n",
      "31 16859629.415007684 step scale 0.0018884512155507857\n",
      "32 16859534.09755819 step scale 0.0019448842094275999\n",
      "33 16859453.314912286 step scale 0.0017595276244540428\n",
      "34 16859401.317802444 step scale 0.0011245727595709763\n",
      "35 16859350.169512942 step scale 0.0011182283629504839\n",
      "36 16859347.664178364 step scale 5.484580564270128e-05\n",
      "37 16859346.61285467 step scale 2.301675461770008e-05\n",
      "38 16859346.34462985 step scale 5.872443621530359e-06\n",
      "39 16859346.076416317 step scale 5.872243249106626e-06\n",
      "40 16859345.80821411 step scale 5.87204289028229e-06\n",
      "41 16859345.791212663 step scale 3.7223398450289854e-07\n",
      "42 16859345.786951687 step scale 9.329113984025359e-08\n",
      "Initial Loss: 49847302.89841316\n",
      "Loss for Minimizer: 16859345.786951687\n"
     ]
    }
   ],
   "source": [
    "CnBase, pnBase, Frechet_Loss = gwa.network_karcher_mean_armijo_sched(CList_train[0],pList[0],CList_train,pList,20,50)"
   ]
  },
  {
   "cell_type": "markdown",
   "metadata": {},
   "source": [
    "### Log Matrices to the Average\n",
    "\n",
    "Next we log all matrices (training and testing) back to the average and reshape. The result is our training and testing set for the Riemannian-based classification algorithms."
   ]
  },
  {
   "cell_type": "code",
   "execution_count": 24,
   "metadata": {},
   "outputs": [],
   "source": [
    "CAvg = CnBase\n",
    "\n",
    "vectors_train = np.zeros((train_size,100*100))\n",
    "\n",
    "for j in range(train_size):\n",
    "    C0, C1, p, q, vec, opt_coup = gwa.log_map(CAvg,CList_train[j],pList[0],pList[j])\n",
    "    vec = vec.reshape(1,100*100)\n",
    "    vectors_train[j,:] = vec\n",
    "    \n",
    "vectors_test = np.zeros((test_size,100*100))\n",
    "\n",
    "for j in range(test_size):\n",
    "    C0, C1, p, q, vec, opt_coup = gwa.log_map(CAvg,CList_test[j],pList[0],pList[j])\n",
    "    vec = vec.reshape(1,100*100)\n",
    "    vectors_test[j,:] = vec"
   ]
  },
  {
   "cell_type": "markdown",
   "metadata": {},
   "source": [
    "### Create Naive Baseline\n",
    "\n",
    "We should also test everything without doing any alignment or anything interesting. We could just treat each cost matrix as a vector and do classification in the space of unaligned cost matrices."
   ]
  },
  {
   "cell_type": "code",
   "execution_count": 25,
   "metadata": {},
   "outputs": [],
   "source": [
    "vectorsBaseline_train = np.zeros((train_size,100*100))\n",
    "\n",
    "for j in range(train_size):\n",
    "    vectorsBaseline_train[j,:] = CList_train[j].reshape(1,100*100)\n",
    "    \n",
    "vectorsBaseline_test = np.zeros((test_size,100*100))\n",
    "\n",
    "for j in range(test_size):\n",
    "    vectorsBaseline_test[j,:] = CList_test[j].reshape(1,100*100)"
   ]
  },
  {
   "cell_type": "markdown",
   "metadata": {},
   "source": [
    "### Create Less Naive Baseline\n",
    "\n",
    "We could also do *some* alignment by picking one of the shapes in the training set, aligning everything to it and pulling back to tangent vectors."
   ]
  },
  {
   "cell_type": "code",
   "execution_count": 26,
   "metadata": {},
   "outputs": [],
   "source": [
    "CAvgLNB = CList_train[0]\n",
    "\n",
    "vectorsLNB_train = np.zeros((train_size,100*100))\n",
    "\n",
    "for j in range(train_size):\n",
    "    C0, C1, p, q, vec, opt_coup = gwa.log_map(CAvgLNB,CList_train[j],pList[0],pList[j])\n",
    "    vec = vec.reshape(1,100*100)\n",
    "    vectorsLNB_train[j,:] = vec\n",
    "    \n",
    "vectorsLNB_test = np.zeros((test_size,100*100))\n",
    "\n",
    "for j in range(test_size):\n",
    "    C0, C1, p, q, vec, opt_coup = gwa.log_map(CAvgLNB,CList_test[j],pList[0],pList[j])\n",
    "    vec = vec.reshape(1,100*100)\n",
    "    vectorsLNB_test[j,:] = vec"
   ]
  },
  {
   "cell_type": "markdown",
   "metadata": {},
   "source": [
    "## Run Classification\n",
    "\n",
    "Now that we have suitable training and testing vectors for both the Riemannian algorithms and the naive algorithm, we can run whatever classification algorithms we like."
   ]
  },
  {
   "cell_type": "markdown",
   "metadata": {},
   "source": [
    "### Support Vector Machine\n",
    "\n",
    "Classify the shapes using SVM classification."
   ]
  },
  {
   "cell_type": "code",
   "execution_count": 27,
   "metadata": {},
   "outputs": [],
   "source": [
    "modelSVM = SVC(kernel=\"linear\",C=1)"
   ]
  },
  {
   "cell_type": "markdown",
   "metadata": {},
   "source": [
    "#### Riemannian Algorithm"
   ]
  },
  {
   "cell_type": "code",
   "execution_count": 28,
   "metadata": {},
   "outputs": [
    {
     "name": "stdout",
     "output_type": "stream",
     "text": [
      "1.0\n",
      "0.94\n"
     ]
    }
   ],
   "source": [
    "modelSVM.fit(vectors_train, y_train)\n",
    "print(modelSVM.score(vectors_train,y_train))\n",
    "print(modelSVM.score(vectors_test,y_test))"
   ]
  },
  {
   "cell_type": "markdown",
   "metadata": {},
   "source": [
    "#### Naive Baseline"
   ]
  },
  {
   "cell_type": "code",
   "execution_count": 29,
   "metadata": {},
   "outputs": [
    {
     "name": "stdout",
     "output_type": "stream",
     "text": [
      "1.0\n",
      "0.19\n"
     ]
    }
   ],
   "source": [
    "modelSVM.fit(vectorsBaseline_train, y_train)\n",
    "print(modelSVM.score(vectorsBaseline_train, y_train))\n",
    "print(modelSVM.score(vectorsBaseline_test,y_test))"
   ]
  },
  {
   "cell_type": "markdown",
   "metadata": {},
   "source": [
    "#### Less Naive Baseline\n"
   ]
  },
  {
   "cell_type": "code",
   "execution_count": 30,
   "metadata": {},
   "outputs": [
    {
     "name": "stdout",
     "output_type": "stream",
     "text": [
      "1.0\n",
      "0.84\n"
     ]
    }
   ],
   "source": [
    "modelSVM.fit(vectorsLNB_train, y_train)\n",
    "\n",
    "print(modelSVM.score(vectorsLNB_train,y_train))\n",
    "print(modelSVM.score(vectorsLNB_test,y_test))"
   ]
  }
 ],
 "metadata": {
  "kernelspec": {
   "display_name": "Python 3",
   "language": "python",
   "name": "python3"
  },
  "language_info": {
   "codemirror_mode": {
    "name": "ipython",
    "version": 3
   },
   "file_extension": ".py",
   "mimetype": "text/x-python",
   "name": "python",
   "nbconvert_exporter": "python",
   "pygments_lexer": "ipython3",
   "version": "3.7.3"
  }
 },
 "nbformat": 4,
 "nbformat_minor": 2
}
